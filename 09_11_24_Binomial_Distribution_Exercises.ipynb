{
  "nbformat": 4,
  "nbformat_minor": 0,
  "metadata": {
    "colab": {
      "provenance": [],
      "authorship_tag": "ABX9TyNeu7ntnguRa2HANpVmveRY",
      "include_colab_link": true
    },
    "kernelspec": {
      "name": "python3",
      "display_name": "Python 3"
    },
    "language_info": {
      "name": "python"
    }
  },
  "cells": [
    {
      "cell_type": "markdown",
      "metadata": {
        "id": "view-in-github",
        "colab_type": "text"
      },
      "source": [
        "<a href=\"https://colab.research.google.com/github/taylorp-j/NGG6050/blob/main/09_11_24_Binomial_Distribution_Exercises.ipynb\" target=\"_parent\"><img src=\"https://colab.research.google.com/assets/colab-badge.svg\" alt=\"Open In Colab\"/></a>"
      ]
    },
    {
      "cell_type": "code",
      "execution_count": 1,
      "metadata": {
        "id": "WPxqqtzQY9HO"
      },
      "outputs": [],
      "source": [
        "import numpy as np\n",
        "import random as rnd\n",
        "import collections\n",
        "import matplotlib.pyplot as plt\n",
        "import time\n",
        "import scipy.stats as st\n",
        "\n",
        "from scipy.stats import bernoulli, binom, poisson, chi2\n",
        "from IPython.display import clear_output\n",
        "from operator import itemgetter\n",
        "from statsmodels.stats import proportion\n",
        "\n",
        "from numpy import matlib\n"
      ]
    },
    {
      "cell_type": "markdown",
      "source": [
        "**Exercise 1:** Assume that there are 10 quanta available in a nerve terminal, and for a given release event each is released with a probability of 0.2. For one such event, what is the probability that 0, 1, 2, 3, 4, 5, 6, 7, 8, 9, or 10 quanta will be released?"
      ],
      "metadata": {
        "id": "unlkvzf9aLIV"
      }
    },
    {
      "cell_type": "code",
      "source": [
        "#Parameters\n",
        "p=0.2\n",
        "n=10\n",
        "\n",
        "probabilities = binom.pmf((np.arange(0,11,1)), n, p)\n",
        "\n",
        "for k, prob in enumerate(probabilities):\n",
        "  print(f'Probability of {k} quanta released: {prob:.4f}')\n"
      ],
      "metadata": {
        "id": "yGNPeYHZaMq8",
        "colab": {
          "base_uri": "https://localhost:8080/"
        },
        "outputId": "d0306841-4f4d-45f9-9b57-f9d826498576"
      },
      "execution_count": 10,
      "outputs": [
        {
          "output_type": "stream",
          "name": "stdout",
          "text": [
            "Probability of 0 quanta released: 0.1074\n",
            "Probability of 1 quanta released: 0.2684\n",
            "Probability of 2 quanta released: 0.3020\n",
            "Probability of 3 quanta released: 0.2013\n",
            "Probability of 4 quanta released: 0.0881\n",
            "Probability of 5 quanta released: 0.0264\n",
            "Probability of 6 quanta released: 0.0055\n",
            "Probability of 7 quanta released: 0.0008\n",
            "Probability of 8 quanta released: 0.0001\n",
            "Probability of 9 quanta released: 0.0000\n",
            "Probability of 10 quanta released: 0.0000\n"
          ]
        }
      ]
    },
    {
      "cell_type": "markdown",
      "source": [
        "**Exercise 2:** Let's say you know that a given nerve terminal contains exactly 14 quanta available for release. You have read in the literature that the release probability of these quanta is low, say 0.1. To assess whether this value is reasonable, you run a simple experiment: activate the nerve and measure the number of quanta that are released. The result is 8 quanta. What is the probability that you would get this result (8 quanta) if the true probability of release really was 0.1? What about if the true release probability was much higher; say, 0.7? What about for each decile of release probability (0.1, 0.2, ... 1.0)? Which value of release probability did you determine to be the most probable, given your measurement?\n",
        "\n",
        "Note: here you are computing a likelihood function: a function describing how the value of the conditional probability p(data | parameters) changes when you hold your data fixed to the value(s) you measured and vary the value(s) of the parameter(s) of, in this case, the binomial distribution. Because you are varying the parameters and not the data, the values of the function are not expected to sum to one (e.g., you can have numerous parameters that have a very high probability of producing the given data) and thus this function is not a probability distribution (see here for an extended discussion). The maximum value of this function is called the maximum likelihood."
      ],
      "metadata": {
        "id": "mXn51I79akxB"
      }
    },
    {
      "cell_type": "code",
      "source": [
        "#Probability of getting results if true probability of release was 0.1\n",
        "#Parameters\n",
        "n=14\n",
        "k=8\n",
        "p=0.1\n",
        "\n",
        "likelihoods = binom.pmf(k, n, p)\n",
        "print(f'Probability of getting {k} quanta released of {n} with a release probability of {p}: {likelihoods:.4f}')"
      ],
      "metadata": {
        "colab": {
          "base_uri": "https://localhost:8080/"
        },
        "id": "3En492Vpt07Q",
        "outputId": "1f1a5107-c864-4828-f6ef-8aaad26ef618"
      },
      "execution_count": 20,
      "outputs": [
        {
          "output_type": "stream",
          "name": "stdout",
          "text": [
            "Probability of getting 8 quanta released of 14 with a release probability of 0.1: 0.0000\n"
          ]
        }
      ]
    },
    {
      "cell_type": "code",
      "source": [
        "#Probability of getting results if true probability of release was 0.7\n",
        "#Parameters\n",
        "n=14\n",
        "k=8\n",
        "p=0.7\n",
        "\n",
        "likelihoods = binom.pmf(k, n, p)\n",
        "print(f'Probability of getting {k} quanta released of {n} with a release probability of {p}: {likelihoods:.4f}')"
      ],
      "metadata": {
        "colab": {
          "base_uri": "https://localhost:8080/"
        },
        "id": "VOhMVRIRugFw",
        "outputId": "cac15f5b-cb50-44d7-ff86-24c5878528b7"
      },
      "execution_count": 21,
      "outputs": [
        {
          "output_type": "stream",
          "name": "stdout",
          "text": [
            "Probability of getting 8 quanta released of 14 with a release probability of 0.7: 0.1262\n"
          ]
        }
      ]
    },
    {
      "cell_type": "code",
      "source": [
        "#Probability for each decile of release probability\n",
        "#Parameters\n",
        "n=14\n",
        "k=8\n",
        "p_values = np.arange(0.1,1.1,0.1)\n",
        "\n",
        "likelihoods = binom.pmf(k, n, p_values)\n",
        "print(f'Probability of getting {k} quanta released of {n} for each decile of release probability:')\n",
        "for p, likelihood in zip(p_values, likelihoods):\n",
        "  print(f'p = {p:.1f}, likelihood = {likelihood:.4f}')\n",
        "\n",
        "#Most probably release probability\n",
        "most_probable_p = p_values[np.argmax(likelihoods)]\n",
        "print(f'Most probable release probability given measurement = {most_probable_p:.1f}')"
      ],
      "metadata": {
        "colab": {
          "base_uri": "https://localhost:8080/"
        },
        "id": "MrnxjK2jum6M",
        "outputId": "897f6275-594d-42bc-ae33-e45564643d80"
      },
      "execution_count": 37,
      "outputs": [
        {
          "output_type": "stream",
          "name": "stdout",
          "text": [
            "Probability of getting 8 quanta released of 14 for each decile of release probability:\n",
            "p = 0.1, likelihood = 0.0000\n",
            "p = 0.2, likelihood = 0.0020\n",
            "p = 0.3, likelihood = 0.0232\n",
            "p = 0.4, likelihood = 0.0918\n",
            "p = 0.5, likelihood = 0.1833\n",
            "p = 0.6, likelihood = 0.2066\n",
            "p = 0.7, likelihood = 0.1262\n",
            "p = 0.8, likelihood = 0.0322\n",
            "p = 0.9, likelihood = 0.0013\n",
            "p = 1.0, likelihood = 0.0000\n",
            "Most probable release probability given measurement = 0.6\n"
          ]
        }
      ]
    },
    {
      "cell_type": "markdown",
      "source": [
        "**Exercise 3**: Not feeling convinced by your single experiment (good scientist!), you repeat it under identical conditions. This time you measure 5 quanta that were released. Your sample size has now doubled, to two measurements. You now want to take into account both measurements when you assess the likelihoods of different possible values of the underlying release probability. To do so, assume that the two measurements in this sample are independent of one another; that is, the value of each result had no bearing on the other. In this case, the total likelihood is simply the product of the likelihoods associated with each separate measurement. It is also typical to compute the logarithm of each likelihood and take their sum, which is often more convenient. What are the values of the total likelihood and total log-likelihood in this example, if we assume that the true release probability is 0.1?\n",
        "\n",
        "Of course, knowing those values of the likelihood and log-likelihood is not particularly useful until you can compare them to the values computed for other possible values for the release probability, so you can determine which value of release probability is most likely, given the data. Therefore, compute the full likelihood and log-likelihood functions using deciles of release probability between 0 and 1. What is the maximum value? Can you improve your estimate by computing the functions at a higher resolution? How does the estimate improve as you increase the sample size?"
      ],
      "metadata": {
        "id": "UA6_rG0Oap7U"
      }
    },
    {
      "cell_type": "code",
      "source": [
        "#Parameters\n",
        "n = 14\n",
        "p = 0.1\n",
        "\n",
        "#Quanta Released Measurements\n",
        "k1 = 8\n",
        "k2 = 5\n",
        "\n",
        "#Likelihood for each measurement\n",
        "likelihood1 = binom.pmf(k1, n, p)\n",
        "likelihood2 = binom.pmf(k2, n, p)\n",
        "\n",
        "#Total likelihood\n",
        "total_likelihood = likelihood1 * likelihood2\n",
        "\n",
        "# Calculate the total log-likelihood\n",
        "log_likelihood1 = np.log(likelihood1)\n",
        "log_likelihood2 = np.log(likelihood2)\n",
        "\n",
        "total_log_likelihood = log_likelihood1 + log_likelihood2\n",
        "\n",
        "#Results\n",
        "print(f'Likelihood for k = {k1}: {likelihood1:.4f}')\n",
        "print(f'Likelihood for k = {k2}: {likelihood2:.4f}')\n",
        "print(f'Total likelihood: {total_likelihood:.4e}')\n",
        "print(f'Total log-likelihood: {total_log_likelihood:.4f}')\n"
      ],
      "metadata": {
        "id": "aPsxsDN0asSl",
        "colab": {
          "base_uri": "https://localhost:8080/"
        },
        "outputId": "77ac50fe-9730-45ad-f627-cacbe429ca00"
      },
      "execution_count": 36,
      "outputs": [
        {
          "output_type": "stream",
          "name": "stdout",
          "text": [
            "Likelihood for k = 8: 0.0000\n",
            "Likelihood for k = 5: 0.0078\n",
            "Total likelihood: 1.2378e-07\n",
            "Total log-likelihood: -15.9047\n"
          ]
        }
      ]
    },
    {
      "cell_type": "code",
      "source": [
        "#Parameters\n",
        "n = 14\n",
        "k1 = 8\n",
        "k2 = 5\n",
        "p_values = np.arange(0,1.1,0.1)\n",
        "\n",
        "#Likelihood for each measurement\n",
        "likelihood1 = binom.pmf(k1, n, p_values)\n",
        "likelihood2 = binom.pmf(k1, n, p_values)\n",
        "total_likelihood = likelihood1 * likelihood2\n",
        "\n",
        "#Total log-likelihood\n",
        "log_likelihood1 = np.log(likelihood1)\n",
        "log_likelihood2 = np.log(likelihood2)\n",
        "total_log_likelihood = log_likelihood1 + log_likelihood2\n",
        "\n",
        "#Max Values\n",
        "max_likelihood = max(total_likelihood)\n",
        "max_log_likelihood = max(total_log_likelihood)\n",
        "\n",
        "#Probabilities for Max Values\n",
        "max_likelihood_prob = p_values[np.argmax(total_likelihood)]\n",
        "max_log_likelihood_prob = p_values[np.argmax(total_log_likelihood)]\n",
        "\n",
        "# Print the results\n",
        "print(f'Probability, Likelihood, Log-Likelihood')\n",
        "for p, likelihood, log_likelihood in zip(p_values, total_likelihood, total_log_likelihood):\n",
        "    print(f'probability = {p:0.1f}, likelihood = {likelihood:.4e}, log-likelihood = {log_likelihood:.6f}')\n",
        "\n",
        "print(f\"Maximum Likelihood: {max_likelihood:.4f} at probability {max_likelihood_prob:.1f}\")\n",
        "print(f\"Maximum Log-Likelihood: {max_log_likelihood:.4f} at probability {max_log_likelihood_prob:.1f}\")\n"
      ],
      "metadata": {
        "colab": {
          "base_uri": "https://localhost:8080/"
        },
        "id": "NtGnzHQH2cJU",
        "outputId": "e521aee1-e3e1-46a9-e02c-209f59178d0d"
      },
      "execution_count": 42,
      "outputs": [
        {
          "output_type": "stream",
          "name": "stdout",
          "text": [
            "Probability, Likelihood, Log-Likelihood\n",
            "probability = 0.0, likelihood = 0.0000e+00, log-likelihood = -inf\n",
            "probability = 0.1, likelihood = 2.5470e-10, log-likelihood = -22.090954\n",
            "probability = 0.2, likelihood = 4.0614e-06, log-likelihood = -12.413995\n",
            "probability = 0.3, likelihood = 5.3731e-04, log-likelihood = -7.528930\n",
            "probability = 0.4, likelihood = 8.4311e-03, log-likelihood = -4.775825\n",
            "probability = 0.5, likelihood = 3.3595e-02, log-likelihood = -3.393387\n",
            "probability = 0.6, likelihood = 4.2683e-02, log-likelihood = -3.153965\n",
            "probability = 0.7, likelihood = 1.5927e-02, log-likelihood = -4.139739\n",
            "probability = 0.8, likelihood = 1.0397e-03, log-likelihood = -6.868818\n",
            "probability = 0.9, likelihood = 1.6711e-06, log-likelihood = -13.302055\n",
            "probability = 1.0, likelihood = 0.0000e+00, log-likelihood = -inf\n",
            "Maximum Likelihood: 0.0427 at probability 0.6\n",
            "Maximum Log-Likelihood: -3.1540 at probability 0.6\n"
          ]
        },
        {
          "output_type": "stream",
          "name": "stderr",
          "text": [
            "<ipython-input-42-9822e11fc8dc>:13: RuntimeWarning: divide by zero encountered in log\n",
            "  log_likelihood1 = np.log(likelihood1)\n",
            "<ipython-input-42-9822e11fc8dc>:14: RuntimeWarning: divide by zero encountered in log\n",
            "  log_likelihood2 = np.log(likelihood2)\n"
          ]
        }
      ]
    },
    {
      "cell_type": "code",
      "source": [
        "#At Higher Resolution\n",
        "n = 14\n",
        "k1 = 8\n",
        "k2 = 5\n",
        "p_values = np.arange(0,1.1,0.01)\n",
        "\n",
        "#Likelihood for each measurement\n",
        "likelihood1 = binom.pmf(k1, n, p_values)\n",
        "likelihood2 = binom.pmf(k1, n, p_values)\n",
        "total_likelihood = likelihood1 * likelihood2\n",
        "\n",
        "#Total log-likelihood\n",
        "log_likelihood1 = np.log(likelihood1)\n",
        "log_likelihood2 = np.log(likelihood2)\n",
        "total_log_likelihood = log_likelihood1 + log_likelihood2\n",
        "\n",
        "#Max Values\n",
        "max_likelihood = max(total_likelihood)\n",
        "max_log_likelihood = max(total_log_likelihood)\n",
        "\n",
        "#Probabilities for Max Values\n",
        "max_likelihood_prob = p_values[np.argmax(total_likelihood)]\n",
        "max_log_likelihood_prob = p_values[np.argmax(total_log_likelihood)]\n",
        "\n",
        "# Print the results\n",
        "print(f'Probability, Likelihood, Log-Likelihood')\n",
        "for p, likelihood, log_likelihood in zip(p_values, total_likelihood, total_log_likelihood):\n",
        "    print(f'probability = {p:0.3f}, likelihood = {likelihood:.4e}, log-likelihood = {log_likelihood:.6f}')\n",
        "\n",
        "print(f\"Maximum Likelihood: {max_likelihood:.4f} at probability {max_likelihood_prob:.3f}\")\n",
        "print(f\"Maximum Log-Likelihood: {max_log_likelihood:.4f} at probability {max_log_likelihood_prob:.3}\")"
      ],
      "metadata": {
        "colab": {
          "base_uri": "https://localhost:8080/"
        },
        "id": "zO_u2coe8XgU",
        "outputId": "f95bb0ff-0ba7-4223-848a-f1e6b6a15ae3"
      },
      "execution_count": 45,
      "outputs": [
        {
          "output_type": "stream",
          "name": "stdout",
          "text": [
            "Probability, Likelihood, Log-Likelihood\n",
            "probability = 0.000, likelihood = 0.0000e+00, log-likelihood = -inf\n",
            "probability = 0.010, likelihood = 7.9934e-26, log-likelihood = -57.788593\n",
            "probability = 0.020, likelihood = 4.6377e-21, log-likelihood = -46.820066\n",
            "probability = 0.030, likelihood = 2.6935e-18, log-likelihood = -40.455703\n",
            "probability = 0.040, likelihood = 2.3732e-16, log-likelihood = -35.977143\n",
            "probability = 0.050, likelihood = 7.4356e-15, log-likelihood = -32.532502\n",
            "probability = 0.060, likelihood = 1.2108e-13, log-likelihood = -29.742342\n",
            "probability = 0.070, likelihood = 1.2545e-12, log-likelihood = -27.404275\n",
            "probability = 0.080, likelihood = 9.3326e-12, log-likelihood = -25.397503\n",
            "probability = 0.090, likelihood = 5.3887e-11, log-likelihood = -23.644124\n",
            "probability = 0.100, likelihood = 2.5470e-10, log-likelihood = -22.090954\n",
            "probability = 0.110, likelihood = 1.0235e-09, log-likelihood = -20.700070\n",
            "probability = 0.120, likelihood = 3.5959e-09, log-likelihood = -19.443483\n",
            "probability = 0.130, likelihood = 1.1283e-08, log-likelihood = -18.299944\n",
            "probability = 0.140, likelihood = 3.2147e-08, log-likelihood = -17.252946\n",
            "probability = 0.150, likelihood = 8.4255e-08, log-likelihood = -16.289413\n",
            "probability = 0.160, likelihood = 2.0530e-07, log-likelihood = -15.398810\n",
            "probability = 0.170, likelihood = 4.6906e-07, log-likelihood = -14.572530\n",
            "probability = 0.180, likelihood = 1.0121e-06, log-likelihood = -13.803452\n",
            "probability = 0.190, likelihood = 2.0749e-06, log-likelihood = -13.085618\n",
            "probability = 0.200, likelihood = 4.0614e-06, log-likelihood = -12.413995\n",
            "probability = 0.210, likelihood = 7.6233e-06, log-likelihood = -11.784298\n",
            "probability = 0.220, likelihood = 1.3772e-05, log-likelihood = -11.192846\n",
            "probability = 0.230, likelihood = 2.4024e-05, log-likelihood = -10.636459\n",
            "probability = 0.240, likelihood = 4.0575e-05, log-likelihood = -10.112370\n",
            "probability = 0.250, likelihood = 6.6510e-05, log-likelihood = -9.618161\n",
            "probability = 0.260, likelihood = 1.0604e-04, log-likelihood = -9.151705\n",
            "probability = 0.270, likelihood = 1.6474e-04, log-likelihood = -8.711128\n",
            "probability = 0.280, likelihood = 2.4982e-04, log-likelihood = -8.294765\n",
            "probability = 0.290, likelihood = 3.7032e-04, log-likelihood = -7.901139\n",
            "probability = 0.300, likelihood = 5.3731e-04, log-likelihood = -7.528930\n",
            "probability = 0.310, likelihood = 7.6399e-04, log-likelihood = -7.176958\n",
            "probability = 0.320, likelihood = 1.0657e-03, log-likelihood = -6.844164\n",
            "probability = 0.330, likelihood = 1.4596e-03, log-likelihood = -6.529599\n",
            "probability = 0.340, likelihood = 1.9647e-03, log-likelihood = -6.232406\n",
            "probability = 0.350, likelihood = 2.6011e-03, log-likelihood = -5.951815\n",
            "probability = 0.360, likelihood = 3.3893e-03, log-likelihood = -5.687131\n",
            "probability = 0.370, likelihood = 4.3494e-03, log-likelihood = -5.437728\n",
            "probability = 0.380, likelihood = 5.4998e-03, log-likelihood = -5.203040\n",
            "probability = 0.390, likelihood = 6.8565e-03, log-likelihood = -4.982558\n",
            "probability = 0.400, likelihood = 8.4311e-03, log-likelihood = -4.775825\n",
            "probability = 0.410, likelihood = 1.0230e-02, log-likelihood = -4.582429\n",
            "probability = 0.420, likelihood = 1.2253e-02, log-likelihood = -4.402001\n",
            "probability = 0.430, likelihood = 1.4491e-02, log-likelihood = -4.234214\n",
            "probability = 0.440, likelihood = 1.6928e-02, log-likelihood = -4.078777\n",
            "probability = 0.450, likelihood = 1.9537e-02, log-likelihood = -3.935433\n",
            "probability = 0.460, likelihood = 2.2282e-02, log-likelihood = -3.803960\n",
            "probability = 0.470, likelihood = 2.5118e-02, log-likelihood = -3.684166\n",
            "probability = 0.480, likelihood = 2.7990e-02, log-likelihood = -3.575890\n",
            "probability = 0.490, likelihood = 3.0838e-02, log-likelihood = -3.478999\n",
            "probability = 0.500, likelihood = 3.3595e-02, log-likelihood = -3.393387\n",
            "probability = 0.510, likelihood = 3.6190e-02, log-likelihood = -3.318977\n",
            "probability = 0.520, likelihood = 3.8553e-02, log-likelihood = -3.255719\n",
            "probability = 0.530, likelihood = 4.0616e-02, log-likelihood = -3.203589\n",
            "probability = 0.540, likelihood = 4.2316e-02, log-likelihood = -3.162590\n",
            "probability = 0.550, likelihood = 4.3598e-02, log-likelihood = -3.132750\n",
            "probability = 0.560, likelihood = 4.4417e-02, log-likelihood = -3.114128\n",
            "probability = 0.570, likelihood = 4.4743e-02, log-likelihood = -3.106809\n",
            "probability = 0.580, likelihood = 4.4560e-02, log-likelihood = -3.110907\n",
            "probability = 0.590, likelihood = 4.3868e-02, log-likelihood = -3.126567\n",
            "probability = 0.600, likelihood = 4.2683e-02, log-likelihood = -3.153965\n",
            "probability = 0.610, likelihood = 4.1036e-02, log-likelihood = -3.193309\n",
            "probability = 0.620, likelihood = 3.8975e-02, log-likelihood = -3.244847\n",
            "probability = 0.630, likelihood = 3.6558e-02, log-likelihood = -3.308860\n",
            "probability = 0.640, likelihood = 3.3855e-02, log-likelihood = -3.385674\n",
            "probability = 0.650, likelihood = 3.0941e-02, log-likelihood = -3.475658\n",
            "probability = 0.660, likelihood = 2.7897e-02, log-likelihood = -3.579229\n",
            "probability = 0.670, likelihood = 2.4801e-02, log-likelihood = -3.696858\n",
            "probability = 0.680, likelihood = 2.1730e-02, log-likelihood = -3.829077\n",
            "probability = 0.690, likelihood = 1.8752e-02, log-likelihood = -3.976481\n",
            "probability = 0.700, likelihood = 1.5927e-02, log-likelihood = -4.139739\n",
            "probability = 0.710, likelihood = 1.3305e-02, log-likelihood = -4.319603\n",
            "probability = 0.720, likelihood = 1.0923e-02, log-likelihood = -4.516919\n",
            "probability = 0.730, likelihood = 8.8032e-03, log-likelihood = -4.732638\n",
            "probability = 0.740, likelihood = 6.9582e-03, log-likelihood = -4.967831\n",
            "probability = 0.750, likelihood = 5.3873e-03, log-likelihood = -5.223711\n",
            "probability = 0.760, likelihood = 4.0800e-03, log-likelihood = -5.501652\n",
            "probability = 0.770, likelihood = 3.0178e-03, log-likelihood = -5.803214\n",
            "probability = 0.780, likelihood = 2.1762e-03, log-likelihood = -6.130180\n",
            "probability = 0.790, likelihood = 1.5268e-03, log-likelihood = -6.484596\n",
            "probability = 0.800, likelihood = 1.0397e-03, log-likelihood = -6.868818\n",
            "probability = 0.810, likelihood = 6.8535e-04, log-likelihood = -7.285577\n",
            "probability = 0.820, likelihood = 4.3592e-04, log-likelihood = -7.738062\n",
            "probability = 0.830, likelihood = 2.6653e-04, log-likelihood = -8.230021\n",
            "probability = 0.840, likelihood = 1.5596e-04, log-likelihood = -8.765898\n",
            "probability = 0.850, likelihood = 8.6878e-05, log-likelihood = -9.351009\n",
            "probability = 0.860, likelihood = 4.5774e-05, log-likelihood = -9.991786\n",
            "probability = 0.870, likelihood = 2.2633e-05, log-likelihood = -10.696109\n",
            "probability = 0.880, likelihood = 1.0399e-05, log-likelihood = -11.473762\n",
            "probability = 0.890, likelihood = 4.3859e-06, log-likelihood = -12.337106\n",
            "probability = 0.900, likelihood = 1.6711e-06, log-likelihood = -13.302055\n",
            "probability = 0.910, likelihood = 5.6323e-07, log-likelihood = -14.389584\n",
            "probability = 0.920, likelihood = 1.6323e-07, log-likelihood = -15.628115\n",
            "probability = 0.930, likelihood = 3.9085e-08, log-likelihood = -17.057517\n",
            "probability = 0.940, likelihood = 7.2941e-09, log-likelihood = -18.736201\n",
            "probability = 0.950, likelihood = 9.6901e-10, log-likelihood = -20.754746\n",
            "probability = 0.960, likelihood = 7.8735e-11, log-likelihood = -23.264928\n",
            "probability = 0.970, likelihood = 2.9438e-12, log-likelihood = -26.551308\n",
            "probability = 0.980, likelihood = 2.6735e-14, log-likelihood = -31.252785\n",
            "probability = 0.990, likelihood = 7.6785e-18, log-likelihood = -39.408113\n",
            "probability = 1.000, likelihood = 0.0000e+00, log-likelihood = -inf\n",
            "probability = 1.010, likelihood = nan, log-likelihood = nan\n",
            "probability = 1.020, likelihood = nan, log-likelihood = nan\n",
            "probability = 1.030, likelihood = nan, log-likelihood = nan\n",
            "probability = 1.040, likelihood = nan, log-likelihood = nan\n",
            "probability = 1.050, likelihood = nan, log-likelihood = nan\n",
            "probability = 1.060, likelihood = nan, log-likelihood = nan\n",
            "probability = 1.070, likelihood = nan, log-likelihood = nan\n",
            "probability = 1.080, likelihood = nan, log-likelihood = nan\n",
            "probability = 1.090, likelihood = nan, log-likelihood = nan\n",
            "Maximum Likelihood: 0.0447 at probability 1.010\n",
            "Maximum Log-Likelihood: -3.1068 at probability 1.01\n"
          ]
        },
        {
          "output_type": "stream",
          "name": "stderr",
          "text": [
            "<ipython-input-45-6a9668d6b126>:13: RuntimeWarning: divide by zero encountered in log\n",
            "  log_likelihood1 = np.log(likelihood1)\n",
            "<ipython-input-45-6a9668d6b126>:14: RuntimeWarning: divide by zero encountered in log\n",
            "  log_likelihood2 = np.log(likelihood2)\n"
          ]
        }
      ]
    },
    {
      "cell_type": "markdown",
      "source": [
        "**Exercise 4:** You keep going and conduct 100 separate experiments and end up with these results:\n",
        "\n",
        "What is the most likely value of p (which we typically refer to as\n",
        ", which is pronounced as \"p-hat\" and represents the maximum-likelihood estimate of a parameter in the population given our sample with a resolution of 0.01?"
      ],
      "metadata": {
        "id": "HkW2CyQLasks"
      }
    },
    {
      "cell_type": "code",
      "source": [
        "#Parameters\n",
        "num_experiments = 100\n",
        "n = 14\n",
        "\n",
        "#Results of Experiments\n",
        "experiments = [\n",
        "    {'trials':0, 'successes':0},\n",
        "    {'trials':0, 'successes':1},\n",
        "    {'trials':3, 'successes':2},\n",
        "    {'trials':7, 'successes':3},\n",
        "    {'trials':10, 'successes':4},\n",
        "    {'trials':19, 'successes':5},\n",
        "    {'trials':26, 'successes':6},\n",
        "    {'trials':16, 'successes':7},\n",
        "    {'trials':16, 'successes':8},\n",
        "    {'trials':5, 'successes':9},\n",
        "    {'trials':5, 'successes':10},\n",
        "    {'trials':0, 'successes':11},\n",
        "    {'trials':0, 'successes':12},\n",
        "    {'trials':0, 'successes':13},\n",
        "    {'trials':0, 'successes':14}\n",
        "]\n",
        "\n",
        "total_successes = sum(exp['successes'] for exp in experiments)\n",
        "total_trials = sum(exp['trials'] for exp in experiments)\n",
        "\n",
        "\n",
        "#Maximum-likelihood estimate of a parameter in the population\n",
        "p_mle = total_successes / total_trials\n",
        "p_mle_rounded = round(p_mle, 2)\n",
        "\n",
        "print(f'Maximum Likelihood Estimate (MLE) for p: {p_mle:.2f}')\n"
      ],
      "metadata": {
        "id": "ZOCBmAcYaxa_",
        "colab": {
          "base_uri": "https://localhost:8080/"
        },
        "outputId": "8c08ba0c-0bce-4819-81a3-2cee007ee794"
      },
      "execution_count": 57,
      "outputs": [
        {
          "output_type": "stream",
          "name": "stdout",
          "text": [
            "Maximum Likelihood Estimate (MLE) for p: 0.98\n"
          ]
        }
      ]
    },
    {
      "cell_type": "markdown",
      "source": [
        "**Exercise 5:** Let's say that you have run an exhaustive set of experiments on this synapse and have determined that the true release probability is 0.3 (within some very small tolerance). Now you want to test whether changing the temperature of the preparation affects the release probability. So you change the temperature, perform the experiment, and measure 7 quantal events for the same 14 available quanta. Compute p hat. Standard statistical inference now asks the question, what is the probability that you would have obtained that measurement given a Null Hypothesis of no effect? In this case, no effect corresponds to an unchanged value of the true release probability (i.e., its value remained at 0.3 even with the temperature change). What is the probability that you would have gotten that measurement if your Null Hypothesis were true? Can you conclude that temperature had an effect?"
      ],
      "metadata": {
        "id": "EJPMF27kBT0z"
      }
    },
    {
      "cell_type": "code",
      "source": [
        "# Experiment Results\n",
        "successes = 7\n",
        "trials = 14\n",
        "\n",
        "# Calculate the MLE for p\n",
        "p_hat = successes / trials\n",
        "\n",
        "# Round to the nearest resolution of 0.01\n",
        "p_hat_rounded = round(p_hat, 2)\n",
        "\n",
        "# Output the result\n",
        "print(f\"Maximum Likelihood Estimate for p: {p_hat_rounded:.2f}\")"
      ],
      "metadata": {
        "colab": {
          "base_uri": "https://localhost:8080/"
        },
        "id": "X_MUHsrQBai8",
        "outputId": "480a9a22-cb2e-4afd-ecab-4ebbb349345a"
      },
      "execution_count": 59,
      "outputs": [
        {
          "output_type": "stream",
          "name": "stdout",
          "text": [
            "Maximum Likelihood Estimate for p: 0.50\n"
          ]
        }
      ]
    },
    {
      "cell_type": "code",
      "source": [
        "# Define the parameters\n",
        "n = 14  # Number of trials\n",
        "k = 7   # Number of successes\n",
        "p_null = 0.3  # Null hypothesis probability\n",
        "\n",
        "# Calculate the p-value for the binomial test\n",
        "p_value = 1 - binom.cdf(k - 1, n, p_null)\n",
        "\n",
        "# Output the p-value\n",
        "print(f\"P-value: {p_value:.4f}\")"
      ],
      "metadata": {
        "colab": {
          "base_uri": "https://localhost:8080/"
        },
        "id": "numi8SgJN_D3",
        "outputId": "747f0f59-02a0-4002-b321-99360006e0db"
      },
      "execution_count": 60,
      "outputs": [
        {
          "output_type": "stream",
          "name": "stdout",
          "text": [
            "P-value: 0.0933\n"
          ]
        }
      ]
    },
    {
      "cell_type": "markdown",
      "source": [
        "You cannot conclude that the temperature had an effect given that p-value is >0.05; therefore, the null hypothesis is accepted."
      ],
      "metadata": {
        "id": "pqCXO-7oOexK"
      }
    }
  ]
}