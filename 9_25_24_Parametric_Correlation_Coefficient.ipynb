{
  "nbformat": 4,
  "nbformat_minor": 0,
  "metadata": {
    "colab": {
      "provenance": [],
      "authorship_tag": "ABX9TyOIRn5/Q1oacbL/Jtn5zAFN",
      "include_colab_link": true
    },
    "kernelspec": {
      "name": "python3",
      "display_name": "Python 3"
    },
    "language_info": {
      "name": "python"
    }
  },
  "cells": [
    {
      "cell_type": "markdown",
      "metadata": {
        "id": "view-in-github",
        "colab_type": "text"
      },
      "source": [
        "<a href=\"https://colab.research.google.com/github/taylorp-j/NGG6050/blob/main/9_25_24_Parametric_Correlation_Coefficient.ipynb\" target=\"_parent\"><img src=\"https://colab.research.google.com/assets/colab-badge.svg\" alt=\"Open In Colab\"/></a>"
      ]
    },
    {
      "cell_type": "code",
      "execution_count": 40,
      "metadata": {
        "id": "laeBu1oE-ywf"
      },
      "outputs": [],
      "source": [
        "import pandas as pd\n",
        "import matplotlib.pyplot as plt\n",
        "import seaborn as sns\n",
        "import numpy as np\n",
        "from scipy.stats import pearsonr, norm, t\n",
        "from statsmodels.stats.power import NormalIndPower"
      ]
    },
    {
      "cell_type": "code",
      "source": [
        "#Data Table\n",
        "data = {\n",
        "    \"Wing Length\": [10.4, 10.8, 11.1, 10.2, 10.3, 10.2, 10.7, 10.5, 10.8, 11.2, 10.6, 11.4],\n",
        "    \"Tail Length\": [7.4, 7.6, 7.9, 7.2, 7.4, 7.1, 7.4, 7.2, 7.8, 7.7, 7.8, 8.3]\n",
        "}\n",
        "\n",
        "df = pd.DataFrame(data)\n",
        "print(df)"
      ],
      "metadata": {
        "colab": {
          "base_uri": "https://localhost:8080/"
        },
        "id": "fS0ILp0OqEK6",
        "outputId": "26e61299-cf4e-4229-d026-5bc6dcb3b048"
      },
      "execution_count": 4,
      "outputs": [
        {
          "output_type": "stream",
          "name": "stdout",
          "text": [
            "    Wing Length  Tail Length\n",
            "0          10.4          7.4\n",
            "1          10.8          7.6\n",
            "2          11.1          7.9\n",
            "3          10.2          7.2\n",
            "4          10.3          7.4\n",
            "5          10.2          7.1\n",
            "6          10.7          7.4\n",
            "7          10.5          7.2\n",
            "8          10.8          7.8\n",
            "9          11.2          7.7\n",
            "10         10.6          7.8\n",
            "11         11.4          8.3\n"
          ]
        }
      ]
    },
    {
      "cell_type": "markdown",
      "source": [
        "1. ** Plot X vs Y. Do they look related?**  \n",
        "\n",
        "  As X increases, Y also seems to increase"
      ],
      "metadata": {
        "id": "TnY4l4Q8rJma"
      }
    },
    {
      "cell_type": "code",
      "source": [
        "plt.figure(figsize=(10, 6))\n",
        "plt.scatter(df[\"Wing Length\"], df[\"Tail Length\"], color='blue', marker='o')\n",
        "\n",
        "plt.title(\"Wing Length vs. Tail Length\")\n",
        "plt.xlabel(\"Wing Length\")\n",
        "plt.ylabel(\"Tail Length\")\n",
        "plt.xlim(left=10)\n",
        "plt.ylim(bottom=6)\n",
        "plt.grid()\n",
        "\n",
        "# Show the plot\n",
        "plt.show()"
      ],
      "metadata": {
        "colab": {
          "base_uri": "https://localhost:8080/",
          "height": 564
        },
        "id": "appuZH-srLBm",
        "outputId": "60b07349-98de-4ee9-bc17-2e4e9c946d54"
      },
      "execution_count": 18,
      "outputs": [
        {
          "output_type": "display_data",
          "data": {
            "text/plain": [
              "<Figure size 1000x600 with 1 Axes>"
            ],
            "image/png": "[encoded data removed]"
          },
          "metadata": {}
        }
      ]
    },
    {
      "cell_type": "markdown",
      "source": [
        "2. **Calculate r(x,y) and r(y,x) first using the equations above and then using either the Python numpy funciton corrcoef or Matlab's built-in corrcoef. Did you get the same answers?**\n",
        "\n",
        "  Yes, I got the same answers"
      ],
      "metadata": {
        "id": "_vn1p9TQtzbl"
      }
    },
    {
      "cell_type": "code",
      "source": [
        "#Using Equations\n",
        "\n",
        "#Data\n",
        "x = np.array([10.4, 10.8, 11.1, 10.2, 10.3, 10.2, 10.7, 10.5, 10.8, 11.2, 10.6, 11.4])\n",
        "y = np.array([7.4, 7.6, 7.9, 7.2, 7.4, 7.1, 7.4, 7.2, 7.8, 7.7, 7.8, 8.3])\n",
        "\n",
        "# Function to calculate Pearson's correlation coefficient\n",
        "def pearson_correlation(x, y):\n",
        "    n = len(x)\n",
        "    sum_x = np.sum(x)\n",
        "    sum_y = np.sum(y)\n",
        "    sum_x_squared = np.sum(x**2)\n",
        "    sum_y_squared = np.sum(y**2)\n",
        "    sum_xy = np.sum(x * y)\n",
        "\n",
        "    r = (n * sum_xy - sum_x * sum_y) / np.sqrt((n * sum_x_squared - sum_x**2) * (n * sum_y_squared - sum_y**2))\n",
        "    return r\n",
        "\n",
        "# Calculate r_x,y and r_y,x\n",
        "r_xy = pearson_correlation(x, y)\n",
        "r_yx = pearson_correlation(y, x)\n",
        "\n",
        "print(\"r_x,y:\", r_xy)\n",
        "print(\"r_y,x:\", r_yx)"
      ],
      "metadata": {
        "colab": {
          "base_uri": "https://localhost:8080/"
        },
        "id": "TbDYvo62t9l1",
        "outputId": "fa1821d1-3c6b-4a95-ae3e-97c121ffc40f"
      },
      "execution_count": 25,
      "outputs": [
        {
          "output_type": "stream",
          "name": "stdout",
          "text": [
            "r_x,y: 0.8703545613057361\n",
            "r_y,x: 0.8703545613057361\n"
          ]
        }
      ]
    },
    {
      "cell_type": "code",
      "source": [
        "#Using Python numpy function\n",
        "\n",
        "# Calculate the correlation coefficient matrix\n",
        "r_matrix = np.corrcoef(x, y)\n",
        "\n",
        "# Extract the Pearson correlation coefficient\n",
        "r_xy = r_matrix[0, 1]\n",
        "r_yx = r_matrix[1, 0]\n",
        "\n",
        "print(\"r_x,y:\", r_xy)\n",
        "print(\"r_y,x:\", r_yx)"
      ],
      "metadata": {
        "colab": {
          "base_uri": "https://localhost:8080/"
        },
        "id": "bemp6aMXN4jf",
        "outputId": "c9d60ed9-42f7-4706-e91e-7bc8a4a9fc31"
      },
      "execution_count": 24,
      "outputs": [
        {
          "output_type": "stream",
          "name": "stdout",
          "text": [
            "r_x,y: 0.8703545613058227\n",
            "r_y,x: 0.8703545613058227\n"
          ]
        }
      ]
    },
    {
      "cell_type": "markdown",
      "source": [
        "3. What is the standard error of r(x,y)? The 95% confidence intervals computed from the standard error?"
      ],
      "metadata": {
        "id": "PNpZn9YvOvYb"
      }
    },
    {
      "cell_type": "code",
      "source": [
        "# Calculate the standard error of the Pearson correlation coefficient\n",
        "SE_r = np.sqrt((1 - r_xy ** 2) / (n - 2))\n",
        "\n",
        "print(\"Standard error of the correlation coefficient:\", SE_r)\n",
        "\n",
        "#Calculate 95% confidence intervals\n",
        "# Fisher's z-transformation\n",
        "z = 0.5 * np.log((1 + r_xy) / (1 - r_xy))\n",
        "print(\"Fisher's z-transformation (z):\", z)\n",
        "\n",
        "#Compute standard deviation of z\n",
        "SD_z = np.sqrt(1 / (n - 3))\n",
        "\n",
        "# z-criterion for 95% confidence level\n",
        "z_critical = norm.ppf(0.975)  # For two-tailed test\n",
        "\n",
        "# Calculate confidence interval in z-space\n",
        "CI_lower = z - z_critical * SD_z\n",
        "CI_upper = z + z_critical * SD_z\n",
        "\n",
        "print(\"Z-criterion for 95% confidence level:\", z_critical)\n",
        "print(\"95% Confidence interval in z-space: [{:.4f}, {:.4f}]\".format(CI_lower, CI_upper))"
      ],
      "metadata": {
        "colab": {
          "base_uri": "https://localhost:8080/"
        },
        "id": "GIKwWyx9PFNz",
        "outputId": "6c8121a7-1f13-4443-e962-489dac4f69e1"
      },
      "execution_count": 31,
      "outputs": [
        {
          "output_type": "stream",
          "name": "stdout",
          "text": [
            "Standard error of the correlation coefficient: 0.15571863652572215\n",
            "Fisher's z-transformation (z): 1.334539983586777\n",
            "Z-criterion for 95% confidence level: 1.959963984540054\n",
            "95% Confidence interval in z-space: [0.6812, 1.9879]\n"
          ]
        }
      ]
    },
    {
      "cell_type": "markdown",
      "source": [
        "4. **Should the value of r(x,y) be considered significant at the p<0.05 level, given a two-tailed test (i.e., we reject if the test statistic is too large on either tail of the null distribution) for H0 : r(x,y) = 0?**\n",
        "\n"
      ],
      "metadata": {
        "id": "WTTDxbpASJkt"
      }
    },
    {
      "cell_type": "code",
      "source": [
        "# Compute the t-statistic\n",
        "t_stat = r * np.sqrt(n - 2) / np.sqrt(1 - r**2)\n",
        "\n",
        "# Determine degrees of freedom\n",
        "df = n - 2\n",
        "\n",
        "# Calculate the two-tailed p-value\n",
        "p_value = 2 * (1 - t.cdf(np.abs(t_stat), df))\n",
        "\n",
        "print(\"t-statistic:\", t_stat)\n",
        "print(\"Degrees of freedom (df):\", df)\n",
        "print(\"p-value:\", p_value)\n",
        "\n",
        "# Check significance\n",
        "if p_value < 0.05:\n",
        "    print(\"Reject H0: r_x,y is significant at the p < 0.05 level.\")\n",
        "else:\n",
        "    print(\"Fail to reject H0: r_x,y is not significant at the p < 0.05 level.\")"
      ],
      "metadata": {
        "colab": {
          "base_uri": "https://localhost:8080/"
        },
        "id": "fUo0QC0qUNV5",
        "outputId": "a4391c4c-1515-42da-dbbb-2bdab44ca3bf"
      },
      "execution_count": 35,
      "outputs": [
        {
          "output_type": "stream",
          "name": "stdout",
          "text": [
            "t-statistic: 5.589276792582035\n",
            "Degrees of freedom (df): 10\n",
            "p-value: 0.00023110594312125698\n",
            "Reject H0: r_x,y is significant at the p < 0.05 level.\n"
          ]
        }
      ]
    },
    {
      "cell_type": "markdown",
      "source": [
        "5. **Yale does the exact same study and finds that his correlation value is 0.75. Is this the same as yours? That is, evaluate H0: r=0.75.**\n",
        "\n",
        "This is not the same correlation value, but r is still significant at the p < 0.05 level."
      ],
      "metadata": {
        "id": "s6-fpzA7U-_y"
      }
    },
    {
      "cell_type": "code",
      "source": [
        "#Yale's correlation value\n",
        "r_yale = 0.75\n",
        "\n",
        "#Compute the t-statistic with Yale's correlation value\n",
        "t_stat_yale = r_yale * np.sqrt(n - 2) / np.sqrt(1 - r_yale**2)\n",
        "\n",
        "# Calculate the two-tailed p-value\n",
        "p_value_yale = 2 * (1 - t.cdf(np.abs(t_stat_yale), df))\n",
        "\n",
        "print(\"t-statistic:\", t_stat_yale)\n",
        "print(\"p-value:\", p_value_yale)\n",
        "\n",
        "# Check significance\n",
        "if p_value_yale < 0.05:\n",
        "    print(\"Reject H0: r_yale is significant at the p < 0.05 level.\")\n",
        "else:\n",
        "    print(\"Fail to reject H0: r_yale is not significant at the p < 0.05 level.\")"
      ],
      "metadata": {
        "colab": {
          "base_uri": "https://localhost:8080/"
        },
        "id": "GO_2hwGHVOty",
        "outputId": "d32e3655-6638-41a7-d864-7dac1d812e31"
      },
      "execution_count": 36,
      "outputs": [
        {
          "output_type": "stream",
          "name": "stdout",
          "text": [
            "t-statistic: 3.585685828003181\n",
            "p-value: 0.004964560270309448\n",
            "Reject H0: r_yale is significant at the p < 0.05 level.\n"
          ]
        }
      ]
    },
    {
      "cell_type": "markdown",
      "source": [
        "6. Finally, calculate the statistical power and sample size needed to reject H0 : r = 0 when r > or = 0.5."
      ],
      "metadata": {
        "id": "xG2__utEWhW6"
      }
    },
    {
      "cell_type": "code",
      "source": [
        "# Parameters\n",
        "r_effect_size = 0.5\n",
        "alpha = 0.05  # Significance level\n",
        "power_target = 0.80\n",
        "\n",
        "# Create an instance of NormalIndPower\n",
        "power_analysis = NormalIndPower()\n",
        "\n",
        "# Calculate required sample size\n",
        "required_sample_size = power_analysis.solve_power(\n",
        "    effect_size=r_effect_size,\n",
        "    alpha=alpha,\n",
        "    power=power_target,\n",
        "    alternative='two-sided'\n",
        ")\n",
        "\n",
        "# Output the required sample size\n",
        "print(\"Required sample size to achieve power of 0.80:\", int(np.ceil(required_sample_size)))\n",
        "print(\"Statistical power for detecting r ≥ 0.5 with sample size of\", n, \"is:\", power)"
      ],
      "metadata": {
        "colab": {
          "base_uri": "https://localhost:8080/"
        },
        "id": "uUcZ7TDJWyer",
        "outputId": "11a5a9fc-1ff6-464c-e557-622d3d458dff"
      },
      "execution_count": 43,
      "outputs": [
        {
          "output_type": "stream",
          "name": "stdout",
          "text": [
            "Required sample size to achieve power of 0.80: 63\n",
            "Statistical power for detecting r ≥ 0.5 with sample size of 12 is: 0.8\n"
          ]
        }
      ]
    }
  ]
}